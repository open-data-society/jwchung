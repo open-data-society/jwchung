{
 "cells": [
  {
   "cell_type": "markdown",
   "metadata": {},
   "source": [
    "# Step-by-step guide to extracting data from PDF files with Python\n",
    "\n",
    "___\n",
    "\n",
    "* There are several great Python packages that help working with PDF files (e.g., PDFMiner, pyPDF, etc.)\n",
    "* This tutorial introduces 'tabula' package step by step.\n",
    "\n",
    "---"
   ]
  },
  {
   "cell_type": "markdown",
   "metadata": {},
   "source": [
    "### 1. Install and import **tabula**.\n",
    "\n",
    "* But first install [Java](https://www.java.com/en/download/)"
   ]
  },
  {
   "cell_type": "code",
   "execution_count": 69,
   "metadata": {
    "collapsed": true
   },
   "outputs": [
    {
     "name": "stdout",
     "output_type": "stream",
     "text": [
      "Requirement already satisfied: tabula-py in c:\\programdata\\anaconda3\\lib\\site-packages (2.1.1)Note: you may need to restart the kernel to use updated packages.\n",
      "Requirement already satisfied: distro in c:\\programdata\\anaconda3\\lib\\site-packages (from tabula-py) (1.5.0)\n",
      "Requirement already satisfied: pandas>=0.25.3 in c:\\programdata\\anaconda3\\lib\\site-packages (from tabula-py) (1.0.5)\n",
      "Requirement already satisfied: numpy in c:\\programdata\\anaconda3\\lib\\site-packages (from tabula-py) (1.18.5)\n",
      "Requirement already satisfied: python-dateutil>=2.6.1 in c:\\programdata\\anaconda3\\lib\\site-packages (from pandas>=0.25.3->tabula-py) (2.8.1)\n",
      "Requirement already satisfied: pytz>=2017.2 in c:\\programdata\\anaconda3\\lib\\site-packages (from pandas>=0.25.3->tabula-py) (2020.1)\n",
      "Requirement already satisfied: six>=1.5 in c:\\programdata\\anaconda3\\lib\\site-packages (from python-dateutil>=2.6.1->pandas>=0.25.3->tabula-py) (1.15.0)\n",
      "\n"
     ]
    }
   ],
   "source": [
    "pip install tabula-py"
   ]
  },
  {
   "cell_type": "code",
   "execution_count": 70,
   "metadata": {},
   "outputs": [],
   "source": [
    "import tabula"
   ]
  },
  {
   "cell_type": "markdown",
   "metadata": {},
   "source": [
    "___"
   ]
  },
  {
   "cell_type": "markdown",
   "metadata": {},
   "source": [
    "### 2. Check if everything is ready."
   ]
  },
  {
   "cell_type": "code",
   "execution_count": 63,
   "metadata": {
    "collapsed": true
   },
   "outputs": [
    {
     "name": "stdout",
     "output_type": "stream",
     "text": [
      "Python version:\n",
      "    3.8.3 (default, Jul  2 2020, 17:30:36) [MSC v.1916 64 bit (AMD64)]\n",
      "Java version:\n",
      "    java version \"1.8.0_261\"\r\n",
      "Java(TM) SE Runtime Environment (build 1.8.0_261-b12)\r\n",
      "Java HotSpot(TM) Client VM (build 25.261-b12, mixed mode)\n",
      "tabula-py version: 2.1.1\n",
      "platform: Windows-10-10.0.18362-SP0\n",
      "uname:\n",
      "    uname_result(system='Windows', node='DESKTOP-J05OL2A', release='10', version='10.0.18362', machine='AMD64', processor='Intel64 Family 6 Model 158 Stepping 9, GenuineIntel')\n",
      "linux_distribution: ('', '', '')\n",
      "mac_ver: ('', ('', '', ''), '')\n",
      "    \n"
     ]
    }
   ],
   "source": [
    "tabula.environment_info()"
   ]
  },
  {
   "cell_type": "markdown",
   "metadata": {},
   "source": [
    "___"
   ]
  },
  {
   "cell_type": "markdown",
   "metadata": {},
   "source": [
    "### 3. Read your PDF file."
   ]
  },
  {
   "cell_type": "code",
   "execution_count": null,
   "metadata": {},
   "outputs": [],
   "source": [
    "file = r\"Your_path/file_name.pdf\"\n",
    " \n",
    "tables = tabula.read_pdf(file, pages = \"all\", multiple_tables = True)"
   ]
  },
  {
   "cell_type": "markdown",
   "metadata": {},
   "source": [
    "___"
   ]
  },
  {
   "cell_type": "markdown",
   "metadata": {},
   "source": [
    "### 4. Specify coordinates to micro-extract data from PDF file.\n",
    "\n",
    "* If the tables in the PDF file are well organized, then you can simply use the command above or its variation. To learn more about the syntax, visit https://tabula-py.readthedocs.io/en/latest/\n",
    "* However, whenever possible, it is better to specifiy the exact location of the data in the PDF file, i.e., coordinates.\n",
    "* Here is one way to find out coordinates of a PDF file:\n",
    "    1. Go to https://tabula.technology/ and install **Tabula**.\n",
    "    2. Upzip the file and execute Tabula.exe.\n",
    "    3. A new window will open (or you can type in \"http://127.0.0.1:8080/\" into your browser).\n",
    "    4. Upload your PDF file and click **Extract Data**.\n",
    "    5. Your PDF file will open. Select the area from which you want to extract data.\n",
    "    6. Click **Preview & Export Extracted Data**.\n",
    "    7. Select **Script** from top-down menu at the top of the page. Click **Export**.\n",
    "    8. This will download a script file. Open with your text editor.\n",
    "    9. It will look something like below. Copy the four coordinates in the middle (representing top, left, bottom, and right coordinates).\n",
    "    \n",
    "        java -jar tabula-java.jar  -a 96.773,50.108,177.098,208.463 -p 1 \"$1\" \n",
    "        \n",
    "       \n",
    "    10. Include area = (96.773,50.108,177.098,208.463) into your **tabula** command."
   ]
  },
  {
   "cell_type": "code",
   "execution_count": null,
   "metadata": {},
   "outputs": [],
   "source": [
    "data = tabula.read_pdf(r'your_path\\file_name.pdf', area =(96.773,50.108,177.098,208.463), pages = \"all\")"
   ]
  },
  {
   "cell_type": "markdown",
   "metadata": {},
   "source": [
    "---"
   ]
  },
  {
   "cell_type": "markdown",
   "metadata": {},
   "source": [
    "### 5. Export the extracted data to csv.\n",
    "\n",
    "* The exporting method will depend on the structure of your extracted data."
   ]
  },
  {
   "cell_type": "code",
   "execution_count": 75,
   "metadata": {},
   "outputs": [],
   "source": [
    "import csv\n",
    "\n",
    "file = open('test.csv','w+',newline='')\n",
    "\n",
    "with file:\n",
    "    write = csv.writer(file)\n",
    "    write.writerows(data)"
   ]
  },
  {
   "cell_type": "markdown",
   "metadata": {},
   "source": [
    "---"
   ]
  },
  {
   "cell_type": "markdown",
   "metadata": {},
   "source": [
    "#### Endnote:\n",
    "1. For greater details about **tabula**, visit https://tabula-py.readthedocs.io/en/latest/\n",
    "2. For how to use Markdown syntax, visit John Gruber's [website](https://daringfireball.net/projects/markdown/syntax), its creator.\n",
    "3. This Jupyter Notebook is uploaded into my Github repository at https://github.com/open-data-society/jwchung/blob/master, also rendered at https://nbviewer.jupyter.org/\n",
    "4. The link to this Notebook is https://nbviewer.jupyter.org/github/open-data-society/jwchung/blob/gh-pages/ReadPDFfiles.ipynb"
   ]
  }
 ],
 "metadata": {
  "kernelspec": {
   "display_name": "Python 3",
   "language": "python",
   "name": "python3"
  },
  "language_info": {
   "codemirror_mode": {
    "name": "ipython",
    "version": 3
   },
   "file_extension": ".py",
   "mimetype": "text/x-python",
   "name": "python",
   "nbconvert_exporter": "python",
   "pygments_lexer": "ipython3",
   "version": "3.8.3"
  }
 },
 "nbformat": 4,
 "nbformat_minor": 4
}

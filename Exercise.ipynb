{
 "cells": [
  {
   "cell_type": "markdown",
   "metadata": {
    "collapsed": true
   },
   "source": [
    "pip install tabula-py"
   ]
  },
  {
   "cell_type": "code",
   "execution_count": 1,
   "metadata": {},
   "outputs": [],
   "source": [
    "import tabula"
   ]
  },
  {
   "cell_type": "code",
   "execution_count": 4,
   "metadata": {
    "collapsed": true
   },
   "outputs": [
    {
     "name": "stderr",
     "output_type": "stream",
     "text": [
      "Got stderr: 8월 19, 2020 1:20:34 오후 org.apache.pdfbox.pdmodel.font.PDType1Font <init>\r\n",
      "경고: Using fallback font Arial-BoldMT for Morningstar1Bold\r\n",
      "8월 19, 2020 1:20:34 오후 org.apache.pdfbox.pdmodel.font.PDType1Font <init>\r\n",
      "경고: Using fallback font ArialMT for Morningstar1Light\r\n",
      "8월 19, 2020 1:20:34 오후 org.apache.pdfbox.pdmodel.font.PDType1Font <init>\r\n",
      "경고: Using fallback font ArialMT for Morningstar1Light\r\n",
      "8월 19, 2020 1:20:34 오후 org.apache.pdfbox.pdmodel.font.PDSimpleFont readEncoding\r\n",
      "경고: Unknown encoding: NULL\r\n",
      "8월 19, 2020 1:20:34 오후 org.apache.pdfbox.pdmodel.font.PDType1Font <init>\r\n",
      "경고: Using fallback font Arial-BoldMT for Morningstar1Bold\r\n",
      "8월 19, 2020 1:20:34 오후 org.apache.pdfbox.pdmodel.font.PDSimpleFont readEncoding\r\n",
      "경고: Unknown encoding: NULL\r\n",
      "\n"
     ]
    }
   ],
   "source": [
    "file = \"D:\\Databases\\Morningstar Principia/00009.pdf\"\n",
    " \n",
    "tables = tabula.read_pdf(file, pages = \"all\", multiple_tables = True)"
   ]
  },
  {
   "cell_type": "code",
   "execution_count": 9,
   "metadata": {
    "collapsed": true
   },
   "outputs": [
    {
     "name": "stdout",
     "output_type": "stream",
     "text": [
      "Collecting PDFMiner\n",
      "  Downloading pdfminer-20191125.tar.gz (4.2 MB)\n",
      "Collecting pycryptodome\n",
      "  Downloading pycryptodome-3.9.8-cp38-cp38-win_amd64.whl (14.1 MB)\n",
      "Building wheels for collected packages: PDFMiner\n",
      "  Building wheel for PDFMiner (setup.py): started\n",
      "  Building wheel for PDFMiner (setup.py): finished with status 'done'\n",
      "  Created wheel for PDFMiner: filename=pdfminer-20191125-py3-none-any.whl size=6140118 sha256=2d20a80494eb780b7cb1ad38d1844e45f83b0c99f250f13e6472d52e9e27c9d5\n",
      "  Stored in directory: c:\\users\\user\\appdata\\local\\pip\\cache\\wheels\\1c\\28\\7d\\f390b82bb0307deb63ff27a1474fd308ec68ee028cb9ab6283\n",
      "Successfully built PDFMiner\n",
      "Installing collected packages: pycryptodome, PDFMiner\n",
      "Successfully installed PDFMiner-20191125 pycryptodome-3.9.8\n",
      "Note: you may need to restart the kernel to use updated packages.\n"
     ]
    }
   ],
   "source": [
    "pip install PDFMiner"
   ]
  },
  {
   "cell_type": "code",
   "execution_count": 12,
   "metadata": {
    "collapsed": true
   },
   "outputs": [
    {
     "name": "stdout",
     "output_type": "stream",
     "text": [
      "Requirement already satisfied: pdfminer.six in c:\\programdata\\anaconda3\\lib\\site-packages (20200726)\n",
      "Requirement already satisfied: chardet; python_version > \"3.0\" in c:\\programdata\\anaconda3\\lib\\site-packages (from pdfminer.six) (3.0.4)\n",
      "Requirement already satisfied: cryptography in c:\\programdata\\anaconda3\\lib\\site-packages (from pdfminer.six) (2.9.2)\n",
      "Requirement already satisfied: sortedcontainers in c:\\programdata\\anaconda3\\lib\\site-packages (from pdfminer.six) (2.2.2)\n",
      "Requirement already satisfied: cffi!=1.11.3,>=1.8 in c:\\programdata\\anaconda3\\lib\\site-packages (from cryptography->pdfminer.six) (1.14.0)\n",
      "Requirement already satisfied: six>=1.4.1 in c:\\programdata\\anaconda3\\lib\\site-packages (from cryptography->pdfminer.six) (1.15.0)\n",
      "Requirement already satisfied: pycparser in c:\\programdata\\anaconda3\\lib\\site-packages (from cffi!=1.11.3,>=1.8->cryptography->pdfminer.six) (2.20)\n",
      "Note: you may need to restart the kernel to use updated packages.\n"
     ]
    }
   ],
   "source": [
    "pip install pdfminer.six"
   ]
  },
  {
   "cell_type": "code",
   "execution_count": 13,
   "metadata": {},
   "outputs": [],
   "source": [
    "import pdfminer"
   ]
  },
  {
   "cell_type": "code",
   "execution_count": 14,
   "metadata": {},
   "outputs": [
    {
     "name": "stdout",
     "output_type": "stream",
     "text": [
      "20191125\n"
     ]
    }
   ],
   "source": [
    "print(pdfminer.__version__)"
   ]
  },
  {
   "cell_type": "code",
   "execution_count": 16,
   "metadata": {},
   "outputs": [
    {
     "ename": "NameError",
     "evalue": "name 'extract_text' is not defined",
     "output_type": "error",
     "traceback": [
      "\u001b[1;31m---------------------------------------------------------------------------\u001b[0m",
      "\u001b[1;31mNameError\u001b[0m                                 Traceback (most recent call last)",
      "\u001b[1;32m<ipython-input-16-fcceaa7e3dd9>\u001b[0m in \u001b[0;36m<module>\u001b[1;34m\u001b[0m\n\u001b[1;32m----> 1\u001b[1;33m \u001b[0mtext\u001b[0m \u001b[1;33m=\u001b[0m \u001b[0mextract_text\u001b[0m\u001b[1;33m(\u001b[0m\u001b[1;34mr'C:\\Users\\user\\Documents\\Python_Exercise\\00009.pdf'\u001b[0m\u001b[1;33m)\u001b[0m\u001b[1;33m\u001b[0m\u001b[1;33m\u001b[0m\u001b[0m\n\u001b[0m",
      "\u001b[1;31mNameError\u001b[0m: name 'extract_text' is not defined"
     ]
    }
   ],
   "source": [
    "text = extract_text(r'C:\\Users\\user\\Documents\\Python_Exercise\\00009.pdf')"
   ]
  },
  {
   "cell_type": "code",
   "execution_count": 27,
   "metadata": {},
   "outputs": [],
   "source": [
    "import PyPDF2"
   ]
  },
  {
   "cell_type": "code",
   "execution_count": 28,
   "metadata": {},
   "outputs": [],
   "source": [
    "pdfFileObj = open(r'C:\\Users\\user\\Documents\\Python_Exercise\\00009.pdf', 'rb')"
   ]
  },
  {
   "cell_type": "code",
   "execution_count": 29,
   "metadata": {},
   "outputs": [
    {
     "name": "stderr",
     "output_type": "stream",
     "text": [
      "PdfReadWarning: Xref table not zero-indexed. ID numbers for objects will be corrected. [pdf.py:1736]\n"
     ]
    }
   ],
   "source": [
    "pdfReader = PyPDF2.PdfFileReader(pdfFileObj)"
   ]
  },
  {
   "cell_type": "code",
   "execution_count": 30,
   "metadata": {},
   "outputs": [
    {
     "name": "stdout",
     "output_type": "stream",
     "text": [
      "1\n"
     ]
    }
   ],
   "source": [
    "print(pdfReader.numPages)"
   ]
  },
  {
   "cell_type": "code",
   "execution_count": 31,
   "metadata": {},
   "outputs": [],
   "source": [
    "pageObj = pdfReader.getPage(0)"
   ]
  },
  {
   "cell_type": "code",
   "execution_count": 32,
   "metadata": {
    "collapsed": true
   },
   "outputs": [
    {
     "name": "stdout",
     "output_type": "stream",
     "text": [
      "Governance and ManagementStewardship Grade:Portfolio Manager(s)ABridgeway Funds' founder John Montgomery runs all but one ofBridgeway's 11 funds. Two quantitative analysts assist him intesting new variables to potentially add to his models and increating new models. Montgomery's background is unique: Priorto starting Bridgeway, he worked in mass-transit management,and with experience in statistics, he used quantitative models onhis personal investment portfolio. StrategyFive quantitative models generate buy-and-sell signals for thisfund. Each model has a slightly different focus, which accounts forthe portfolio's assortment of growth, value, and momentumstocks. The models consider only firms whose marketcapitalizations fall into the NYSE's 10th decile and will oftendramatically overweight sectors. NAV40.8535.9539.7239.6023.7826.4421.6220.6414.7021.8317.1513.47Total Return %13.632.9923.3488.573.9834.004.7540.41-13.1137.9929.7439.89+/-S&P 5001.57-1.9212.4659.8926.0845.8913.8519.37-41.694.636.782.31+/-Russ 2000 Gr2.67-1.169.0340.0334.2443.2327.18-2.68-14.3425.0418.488.85Income Return %0.000.000.000.000.000.000.000.000.000.000.000.00Capital Return %13.632.9923.3488.573.9834.004.7540.41-13.1137.9929.7439.89Total Rtn % Rank Cat1378621127639961028Income $0.000.000.000.000.000.000.000.000.000.000.000.00Capital Gains $0.005.109.125.293.682.450.000.003.561.790.320.49Expense Ratio %1.091.121.151.291.261.611.852.001.671.671.971.68Income Ratio %-0.37-0.25-0.84-0.82-0.53-0.93-1.36-1.82-1.42-1.37-1.47-0.65Turnover Rate %10187715613157658010356156ÑNet Assets $mil126115117103585741423544141Performance10-31-061st Qtr2nd Qtr3rd Qtr4th QtrTotal200220032004200520067.451.48-16.3413.983.983.1134.3016.7316.6588.573.99-0.51-1.5921.1323.34-5.492.407.28-0.802.9920.61-2.17-8.18ÑÑTrailingTotal+/- +/- Russ%RankGrowth ofReturn%S&P 500 2000 GrCat$10,0003 Mo6 Mo1 Yr3 Yr Avg5 Yr Avg10 Yr Avg15 Yr Avg-0.12-8.56-10.46999,988-7.39-13.50-4.70819,26116.830.49-0.242511,68315.083.644.011015,24125.5018.2415.99131,13321.7313.0916.58171,446ÑÑÑÑÑTax AnalysisTax-Adj Rtn%%Rank CatTax-Cost Rat%Rank Cat3 Yr (estimated)5 Yr (estimated)10 Yr (estimated)12.30202.429122.5612.349619.1112.1577Potential Capital Gain Exposure: 43% of assetsRating and RiskTimeLoad-AdjMorningstarMorningstarMorningstarPeriodReturn %Rtn vs CatRisk vs CatRisk-Adj Rating1 Yr16.833 Yr15.08HighHigh5 Yr25.50High+Avg10 Yr21.73HighAvgIncept22.34Other MeasuresStandard IndexBest Fit IndexS&P 500Mstar Small CoreAlpha-3.0-6.4Beta1.941.31R-Squared5784Standard Deviation18.87Mean15.08Sharpe Ratio0.68Morningstar's Takeby Kai Wiecking 08-21-06Shareholders of this fund who didn't heed our earlieradvice to reduce their allocation here may feelvindicated for now, yet we continue to advisecaution.       Make no mistake, Bridgeway Ultra-SmallCompany is an excellent option for the long term.It's hard to argue with the impressive track recordquant-whiz John Montgomery has assembled here:The fund's trailing average 10-year return of 23.1%through August 2, 2006, leaves every one of its 101small-growth category rivals in the dust. In the firstquarter of 2006 alone, the fund gained 20.6%. Andwe have no real reason to think that Bridgeway'sstock-picking models won't continue to work well inthe future. After all, they have fairly consistentlyadded value throughout various marketenvironments. Most impressively, the fund managedto eke out a 4% gain in 2002, when its typical rivallost over 27%.       But the fact that this offering hasn't had a losingyear since 1998 also means that it's more than duefor a breather. Ultrasmall stocks' lofty valuationsleave little room for error, and many of them don'thave the financial strength to weather thepotentially challenging economic conditions incoming years. It's also likely that for many of thelucky investors in this hard-closed fund, it nowrepresents an important portion of their portfolios.As Montgomery himself has argued repeatedly inhis excellent letters to shareholders, it's importantto rebalance and take some cream off the top everynow and again. The fact that many investors intaxable accounts would face significant capitalgains means this would have to be done in aprudent way, however.       All told, we're still huge fans of this fund andthink its proven investment approach and modestexpenses will continue to work in its favor. Thatsaid, longtime shareholders may want to lock insome profits and redeploy them in somewhat moredefensive vehicles. Address:5615 Kirby Drive Suite 518Houston TX 77005-2448800-661-3550Web Address:www.bridgewayfund.comInception:08-05-94Advisor:Bridgeway Capital Management IncSubadvisor:NoneNTF Plans:N/AMinimum Purchase:ClosedAdd:ÑIRA: ÑMin Auto Inv Plan:ClosedAdd:ÑSales Fees:No-loadManagement Fee:0.90% mx./0.85% mn.Actual Fees:Mgt:0.90%Dist:ÑExpense Projections:3Yr:$3475Yr:$60110Yr:$1329Income Distrib: AnnuallyData through October 31, 2006  For internal and/or client reporting purposes only.Bridgeway Ultra-Small CoTickerLoadNAVYieldTotal AssetsMstar CategoryBRUSXClosed$40.850.0%$126 milSmall Growth100%100%98%95%97%95%93%97%1995199619971998199920002001200220032004200510-06Historical ProfileReturnRiskRatingHighAbove AvgHighestInvestment StyleEquityStock %Manager ChangePartial Manager ChangeGrowth of $10,000Investment Values ofFundInvestment Values ofS&P 500Performance Quartile(within Category)History10.035.060.095.0120.0Portfolio Analysis09-30-06Share change since 06-06  Total Stocks:80SectorPETot Ret%% AssetsEZCorp, Inc.Financial26.4195.626.31VAALCO Energy, Inc.Energy12.695.523.64NovAtel, Inc.Ind Mtrls23.635.483.55Intevac, Inc.Goods13.756.673.29U.S. Xpress Enterprises Business17.813.643.08Celadon GroupBusiness21.346.562.73U.S. Global Investors, IFinancial23.0128.202.33PW Eagle Industries, IncInd Mtrls4.974.472.28Matrix Service CompanyBusiness31.946.042.15CPI CorporationConsumer25.5157.672.14United Retail Group, IncConsumer8.136.652.14Intervest Bancshares CorFinancial12.544.402.06Mothers Work Inc.Consumer65.0296.712.03Lamson & SessionsInd Mtrls7.9-12.552.02Chesapeake Energy Corp.Energy8.32.812.01Hansen Natural CorporatiGoods35.461.142.00Air Methods Corp.Health18.839.881.96Dollar Financial CorporaFinancial62.893.661.91A.M. Castle & Co.Ind Mtrls14.253.961.84Meadowbrook Insurance GrFinancial17.5106.341.66Current Investment StyleMarket Cap%Giant0.0Large2.1Mid2.1Small5.4Micro90.4Avg $mil:341ValueBlndGrowthLargeMidSmallValue MeasuresRel CategoryPrice/EarningsPrice/BookPrice/SalesPrice/Cash FlowDividend Yield %12.632.370.735.100.130.610.880.480.540.28Growth Measures%Rel CategoryLong-Term ErngsBook ValueSalesCash FlowHistorical Erngs18.566.578.8723.9948.051.040.630.691.091.95Profitability%Rel CategoryReturn on EquityReturn on AssetsNet Margin19.4910.689.121.571.611.07SectorWeightings% ofStocksRel S&P 500High3 YearLowInfo10.600.53Software3.671.05100Hardware4.510.48102Media0.000.0050Telecom2.420.6930Service53.151.14Health6.400.52196Consumer10.031.29226Business17.354.08209Financial19.370.88195Mfg36.231.08Goods6.390.74186Ind Mtrls19.411.641911Energy10.431.10155Utilities0.000.0000Composition(% of Stock)Cash3.3Stocks96.7Bonds0.0Other0.0Foreign5.3©2006 Morningstar, Inc. All rights reserved. The information herein is not represented or warranted to be accurate, correct, complete ortimely. Past performance is no guarantee of future results. Access updated reports atTo order reprints, call 312-696-6100.mfb.morningstar.com.Mutual FundsEQ\n"
     ]
    }
   ],
   "source": [
    "print(pageObj.extractText())"
   ]
  },
  {
   "cell_type": "code",
   "execution_count": 33,
   "metadata": {},
   "outputs": [],
   "source": [
    "pdfFileObj.close()"
   ]
  },
  {
   "cell_type": "markdown",
   "metadata": {},
   "source": []
  },
  {
   "cell_type": "markdown",
   "metadata": {},
   "source": [
    "Using tabula, https://tabula-py.readthedocs.io/en/latest/"
   ]
  },
  {
   "cell_type": "code",
   "execution_count": 52,
   "metadata": {
    "collapsed": true
   },
   "outputs": [
    {
     "name": "stdout",
     "output_type": "stream",
     "text": [
      "Python version:\n",
      "    3.8.3 (default, Jul  2 2020, 17:30:36) [MSC v.1916 64 bit (AMD64)]\n",
      "Java version:\n",
      "    java version \"1.8.0_261\"\r\n",
      "Java(TM) SE Runtime Environment (build 1.8.0_261-b12)\r\n",
      "Java HotSpot(TM) Client VM (build 25.261-b12, mixed mode)\n",
      "tabula-py version: 2.1.1\n",
      "platform: Windows-10-10.0.18362-SP0\n",
      "uname:\n",
      "    uname_result(system='Windows', node='DESKTOP-J05OL2A', release='10', version='10.0.18362', machine='AMD64', processor='Intel64 Family 6 Model 158 Stepping 9, GenuineIntel')\n",
      "linux_distribution: ('', '', '')\n",
      "mac_ver: ('', ('', '', ''), '')\n",
      "    \n"
     ]
    }
   ],
   "source": [
    "import tabula\n",
    "tabula.environment_info()"
   ]
  },
  {
   "cell_type": "code",
   "execution_count": 60,
   "metadata": {},
   "outputs": [
    {
     "name": "stderr",
     "output_type": "stream",
     "text": [
      "Got stderr: 8월 19, 2020 3:59:39 오후 org.apache.pdfbox.pdmodel.font.PDType1Font <init>\r\n",
      "경고: Using fallback font Arial-BoldMT for Morningstar1Bold\r\n",
      "8월 19, 2020 3:59:39 오후 org.apache.pdfbox.pdmodel.font.PDType1Font <init>\r\n",
      "경고: Using fallback font ArialMT for Morningstar1Light\r\n",
      "8월 19, 2020 3:59:39 오후 org.apache.pdfbox.pdmodel.font.PDType1Font <init>\r\n",
      "경고: Using fallback font ArialMT for Morningstar1Light\r\n",
      "8월 19, 2020 3:59:39 오후 org.apache.pdfbox.pdmodel.font.PDSimpleFont readEncoding\r\n",
      "경고: Unknown encoding: NULL\r\n",
      "8월 19, 2020 3:59:39 오후 org.apache.pdfbox.pdmodel.font.PDType1Font <init>\r\n",
      "경고: Using fallback font Arial-BoldMT for Morningstar1Bold\r\n",
      "8월 19, 2020 3:59:39 오후 org.apache.pdfbox.pdmodel.font.PDSimpleFont readEncoding\r\n",
      "경고: Unknown encoding: NULL\r\n",
      "\n"
     ]
    }
   ],
   "source": [
    "df = tabula.read_pdf(r'C:\\Users\\user\\Documents\\Python_Exercise\\00009.pdf', area =(29.123,52.504,50.453,290.413), pages = 1, multiple_tables = False)"
   ]
  },
  {
   "cell_type": "code",
   "execution_count": 61,
   "metadata": {},
   "outputs": [
    {
     "data": {
      "text/plain": [
       "1"
      ]
     },
     "execution_count": 61,
     "metadata": {},
     "output_type": "execute_result"
    }
   ],
   "source": [
    "len(df)"
   ]
  },
  {
   "cell_type": "code",
   "execution_count": 62,
   "metadata": {},
   "outputs": [
    {
     "data": {
      "text/html": [
       "<div>\n",
       "<style scoped>\n",
       "    .dataframe tbody tr th:only-of-type {\n",
       "        vertical-align: middle;\n",
       "    }\n",
       "\n",
       "    .dataframe tbody tr th {\n",
       "        vertical-align: top;\n",
       "    }\n",
       "\n",
       "    .dataframe thead th {\n",
       "        text-align: right;\n",
       "    }\n",
       "</style>\n",
       "<table border=\"1\" class=\"dataframe\">\n",
       "  <thead>\n",
       "    <tr style=\"text-align: right;\">\n",
       "      <th></th>\n",
       "      <th>Bridgeway Ultra-Small Co</th>\n",
       "    </tr>\n",
       "  </thead>\n",
       "  <tbody>\n",
       "  </tbody>\n",
       "</table>\n",
       "</div>"
      ],
      "text/plain": [
       "Empty DataFrame\n",
       "Columns: [Bridgeway Ultra-Small Co]\n",
       "Index: []"
      ]
     },
     "execution_count": 62,
     "metadata": {},
     "output_type": "execute_result"
    }
   ],
   "source": [
    "df[0]"
   ]
  },
  {
   "cell_type": "code",
   "execution_count": 51,
   "metadata": {
    "collapsed": true
   },
   "outputs": [
    {
     "data": {
      "text/html": [
       "<div>\n",
       "<style scoped>\n",
       "    .dataframe tbody tr th:only-of-type {\n",
       "        vertical-align: middle;\n",
       "    }\n",
       "\n",
       "    .dataframe tbody tr th {\n",
       "        vertical-align: top;\n",
       "    }\n",
       "\n",
       "    .dataframe thead th {\n",
       "        text-align: right;\n",
       "    }\n",
       "</style>\n",
       "<table border=\"1\" class=\"dataframe\">\n",
       "  <thead>\n",
       "    <tr style=\"text-align: right;\">\n",
       "      <th></th>\n",
       "      <th>Unnamed: 0</th>\n",
       "      <th>Unnamed: 1</th>\n",
       "      <th>Unnamed: 2</th>\n",
       "      <th>Unnamed: 3</th>\n",
       "      <th>Unnamed: 4</th>\n",
       "      <th>Unnamed: 5</th>\n",
       "      <th>Unnamed: 6</th>\n",
       "      <th>Unnamed: 7</th>\n",
       "      <th>Unnamed: 8</th>\n",
       "      <th>Unnamed: 9</th>\n",
       "    </tr>\n",
       "  </thead>\n",
       "  <tbody>\n",
       "    <tr>\n",
       "      <th>0</th>\n",
       "      <td>NaN</td>\n",
       "      <td>NaN</td>\n",
       "      <td>NaN</td>\n",
       "      <td>NaN</td>\n",
       "      <td>NaN</td>\n",
       "      <td>NaN</td>\n",
       "      <td>NaN</td>\n",
       "      <td>NaN</td>\n",
       "      <td>NaN</td>\n",
       "      <td>NaN</td>\n",
       "    </tr>\n",
       "    <tr>\n",
       "      <th>1</th>\n",
       "      <td>NaN</td>\n",
       "      <td>NaN</td>\n",
       "      <td>NaN</td>\n",
       "      <td>NaN</td>\n",
       "      <td>NaN</td>\n",
       "      <td>NaN</td>\n",
       "      <td>NaN</td>\n",
       "      <td>NaN</td>\n",
       "      <td>NaN</td>\n",
       "      <td>NaN</td>\n",
       "    </tr>\n",
       "    <tr>\n",
       "      <th>2</th>\n",
       "      <td>NaN</td>\n",
       "      <td>NaN</td>\n",
       "      <td>NaN</td>\n",
       "      <td>NaN</td>\n",
       "      <td>NaN</td>\n",
       "      <td>NaN</td>\n",
       "      <td>NaN</td>\n",
       "      <td>NaN</td>\n",
       "      <td>NaN</td>\n",
       "      <td>NaN</td>\n",
       "    </tr>\n",
       "    <tr>\n",
       "      <th>3</th>\n",
       "      <td>NaN</td>\n",
       "      <td>NaN</td>\n",
       "      <td>NaN</td>\n",
       "      <td>NaN</td>\n",
       "      <td>NaN</td>\n",
       "      <td>NaN</td>\n",
       "      <td>NaN</td>\n",
       "      <td>NaN</td>\n",
       "      <td>NaN</td>\n",
       "      <td>NaN</td>\n",
       "    </tr>\n",
       "    <tr>\n",
       "      <th>4</th>\n",
       "      <td>1995.0</td>\n",
       "      <td>1996.0</td>\n",
       "      <td>1997.0</td>\n",
       "      <td>1998.0</td>\n",
       "      <td>1999.0</td>\n",
       "      <td>2000.0</td>\n",
       "      <td>2001.0</td>\n",
       "      <td>2002.0</td>\n",
       "      <td>2003.0</td>\n",
       "      <td>2004.0</td>\n",
       "    </tr>\n",
       "  </tbody>\n",
       "</table>\n",
       "</div>"
      ],
      "text/plain": [
       "   Unnamed: 0  Unnamed: 1  Unnamed: 2  Unnamed: 3  Unnamed: 4  Unnamed: 5  \\\n",
       "0         NaN         NaN         NaN         NaN         NaN         NaN   \n",
       "1         NaN         NaN         NaN         NaN         NaN         NaN   \n",
       "2         NaN         NaN         NaN         NaN         NaN         NaN   \n",
       "3         NaN         NaN         NaN         NaN         NaN         NaN   \n",
       "4      1995.0      1996.0      1997.0      1998.0      1999.0      2000.0   \n",
       "\n",
       "   Unnamed: 6  Unnamed: 7  Unnamed: 8  Unnamed: 9  \n",
       "0         NaN         NaN         NaN         NaN  \n",
       "1         NaN         NaN         NaN         NaN  \n",
       "2         NaN         NaN         NaN         NaN  \n",
       "3         NaN         NaN         NaN         NaN  \n",
       "4      2001.0      2002.0      2003.0      2004.0  "
      ]
     },
     "execution_count": 51,
     "metadata": {},
     "output_type": "execute_result"
    }
   ],
   "source": [
    "part[0]"
   ]
  },
  {
   "cell_type": "code",
   "execution_count": 57,
   "metadata": {
    "collapsed": true
   },
   "outputs": [
    {
     "name": "stdout",
     "output_type": "stream",
     "text": [
      "Help on function read_pdf in module tabula.io:\n",
      "\n",
      "read_pdf(input_path, output_format=None, encoding='utf-8', java_options=None, pandas_options=None, multiple_tables=True, user_agent=None, **kwargs)\n",
      "    Read tables in PDF.\n",
      "    \n",
      "    Args:\n",
      "        input_path (str, path object or file-like object):\n",
      "            File like object of tareget PDF file.\n",
      "            It can be URL, which is downloaded by tabula-py automatically.\n",
      "        output_format (str, optional):\n",
      "            Output format for returned object (``dataframe`` or ``json``)\n",
      "        encoding (str, optional):\n",
      "            Encoding type for pandas. Default: ``utf-8``\n",
      "        java_options (list, optional):\n",
      "            Set java options.\n",
      "    \n",
      "            Example:\n",
      "                ``[\"-Xmx256m\"]``\n",
      "        pandas_options (dict, optional):\n",
      "            Set pandas options.\n",
      "    \n",
      "            Example:\n",
      "                ``{'header': None}``\n",
      "    \n",
      "            Note:\n",
      "                With ``multiple_tables=True`` (default), pandas_options is passed\n",
      "                to pandas.read_csv, otherwise it is passed to pandas.DataFrame.\n",
      "                Those two functions are different for accept options like ``dtype``.\n",
      "        multiple_tables (bool):\n",
      "            It enables to handle multiple tables within a page. Default: ``True``\n",
      "    \n",
      "            Note:\n",
      "                If `multiple_tables` option is enabled, tabula-py uses not\n",
      "                :func:`pd.read_csv()`, but :func:`pd.DataFrame()`. Make\n",
      "                sure to pass appropriate `pandas_options`.\n",
      "        user_agent (str, optional):\n",
      "            Set a custom user-agent when download a pdf from a url. Otherwise\n",
      "            it uses the default ``urllib.request`` user-agent.\n",
      "        kwargs:\n",
      "            Dictionary of option for tabula-java. Details are shown in\n",
      "            :func:`build_options()`\n",
      "    \n",
      "    Returns:\n",
      "        list of DataFrames or dict.\n",
      "    \n",
      "    Raises:\n",
      "        FileNotFoundError:\n",
      "            If downloaded remote file doesn't exist.\n",
      "    \n",
      "        ValueError:\n",
      "            If output_format is unknown format, or if downloaded remote file size is 0.\n",
      "    \n",
      "        tabula.errors.CSVParseError:\n",
      "            If pandas CSV parsing failed.\n",
      "    \n",
      "        tabula.errors.JavaNotFoundError:\n",
      "            If java is not installed or found.\n",
      "    \n",
      "        subprocess.CalledProcessError:\n",
      "            If tabula-java execution failed.\n",
      "    \n",
      "    \n",
      "    Examples:\n",
      "    \n",
      "        Here is a simple example.\n",
      "        Note that :func:`read_pdf()` only extract page 1 by default.\n",
      "    \n",
      "        Notes:\n",
      "            As of tabula-py 2.0.0, :func:`read_pdf()` sets `multiple_tables=True` by\n",
      "            default. If you want to get consistent output with previous version, set\n",
      "            `multiple_tables=False`.\n",
      "    \n",
      "        >>> import tabula\n",
      "        >>> pdf_path = \"https://github.com/chezou/tabula-py/raw/master/tests/resources/data.pdf\"\n",
      "        >>> tabula.read_pdf(pdf_path, stream=True)\n",
      "        [             Unnamed: 0   mpg  cyl   disp   hp  drat     wt   qsec  vs  am  gear  carb\n",
      "        0             Mazda RX4  21.0    6  160.0  110  3.90  2.620  16.46   0   1     4     4\n",
      "        1         Mazda RX4 Wag  21.0    6  160.0  110  3.90  2.875  17.02   0   1     4     4\n",
      "        2            Datsun 710  22.8    4  108.0   93  3.85  2.320  18.61   1   1     4     1\n",
      "        3        Hornet 4 Drive  21.4    6  258.0  110  3.08  3.215  19.44   1   0     3     1\n",
      "        4     Hornet Sportabout  18.7    8  360.0  175  3.15  3.440  17.02   0   0     3     2\n",
      "        5               Valiant  18.1    6  225.0  105  2.76  3.460  20.22   1   0     3     1\n",
      "        6            Duster 360  14.3    8  360.0  245  3.21  3.570  15.84   0   0     3     4\n",
      "        7             Merc 240D  24.4    4  146.7   62  3.69  3.190  20.00   1   0     4     2\n",
      "        8              Merc 230  22.8    4  140.8   95  3.92  3.150  22.90   1   0     4     2\n",
      "        9              Merc 280  19.2    6  167.6  123  3.92  3.440  18.30   1   0     4     4\n",
      "        10            Merc 280C  17.8    6  167.6  123  3.92  3.440  18.90   1   0     4     4\n",
      "        11           Merc 450SE  16.4    8  275.8  180  3.07  4.070  17.40   0   0     3     3\n",
      "        12           Merc 450SL  17.3    8  275.8  180  3.07  3.730  17.60   0   0     3     3\n",
      "        13          Merc 450SLC  15.2    8  275.8  180  3.07  3.780  18.00   0   0     3     3\n",
      "        14   Cadillac Fleetwood  10.4    8  472.0  205  2.93  5.250  17.98   0   0     3     4\n",
      "        15  Lincoln Continental  10.4    8  460.0  215  3.00  5.424  17.82   0   0     3     4\n",
      "        16    Chrysler Imperial  14.7    8  440.0  230  3.23  5.345  17.42   0   0     3     4\n",
      "        17             Fiat 128  32.4    4   78.7   66  4.08  2.200  19.47   1   1     4     1\n",
      "        18          Honda Civic  30.4    4   75.7   52  4.93  1.615  18.52   1   1     4     2\n",
      "        19       Toyota Corolla  33.9    4   71.1   65  4.22  1.835  19.90   1   1     4     1\n",
      "        20        Toyota Corona  21.5    4  120.1   97  3.70  2.465  20.01   1   0     3     1\n",
      "        21     Dodge Challenger  15.5    8  318.0  150  2.76  3.520  16.87   0   0     3     2\n",
      "        22          AMC Javelin  15.2    8  304.0  150  3.15  3.435  17.30   0   0     3     2\n",
      "        23           Camaro Z28  13.3    8  350.0  245  3.73  3.840  15.41   0   0     3     4\n",
      "        24     Pontiac Firebird  19.2    8  400.0  175  3.08  3.845  17.05   0   0     3     2\n",
      "        25            Fiat X1-9  27.3    4   79.0   66  4.08  1.935  18.90   1   1     4     1\n",
      "        26        Porsche 914-2  26.0    4  120.3   91  4.43  2.140  16.70   0   1     5     2\n",
      "        27         Lotus Europa  30.4    4   95.1  113  3.77  1.513  16.90   1   1     5     2\n",
      "        28       Ford Pantera L  15.8    8  351.0  264  4.22  3.170  14.50   0   1     5     4\n",
      "        29         Ferrari Dino  19.7    6  145.0  175  3.62  2.770  15.50   0   1     5     6\n",
      "        30        Maserati Bora  15.0    8  301.0  335  3.54  3.570  14.60   0   1     5     8\n",
      "        31           Volvo 142E  21.4    4  121.0  109  4.11  2.780  18.60   1   1     4     2]\n",
      "    \n",
      "        If you want to extract all pages, set ``pages=\"all\"``.\n",
      "    \n",
      "        >>> dfs = tabula.read_pdf(pdf_path, pages=\"all\")\n",
      "        >>> len(dfs)\n",
      "        4\n",
      "        >>> dfs\n",
      "        [       0    1      2    3     4      5      6   7   8     9\n",
      "        0    mpg  cyl   disp   hp  drat     wt   qsec  vs  am  gear\n",
      "        1   21.0    6  160.0  110  3.90  2.620  16.46   0   1     4\n",
      "        2   21.0    6  160.0  110  3.90  2.875  17.02   0   1     4\n",
      "        3   22.8    4  108.0   93  3.85  2.320  18.61   1   1     4\n",
      "        4   21.4    6  258.0  110  3.08  3.215  19.44   1   0     3\n",
      "        5   18.7    8  360.0  175  3.15  3.440  17.02   0   0     3\n",
      "        6   18.1    6  225.0  105  2.76  3.460  20.22   1   0     3\n",
      "        7   14.3    8  360.0  245  3.21  3.570  15.84   0   0     3\n",
      "        8   24.4    4  146.7   62  3.69  3.190  20.00   1   0     4\n",
      "        9   22.8    4  140.8   95  3.92  3.150  22.90   1   0     4\n",
      "        10  19.2    6  167.6  123  3.92  3.440  18.30   1   0     4\n",
      "        11  17.8    6  167.6  123  3.92  3.440  18.90   1   0     4\n",
      "        12  16.4    8  275.8  180  3.07  4.070  17.40   0   0     3\n",
      "        13  17.3    8  275.8  180  3.07  3.730  17.60   0   0     3\n",
      "        14  15.2    8  275.8  180  3.07  3.780  18.00   0   0     3\n",
      "        15  10.4    8  472.0  205  2.93  5.250  17.98   0   0     3\n",
      "        16  10.4    8  460.0  215  3.00  5.424  17.82   0   0     3\n",
      "        17  14.7    8  440.0  230  3.23  5.345  17.42   0   0     3\n",
      "        18  32.4    4   78.7   66  4.08  2.200  19.47   1   1     4\n",
      "        19  30.4    4   75.7   52  4.93  1.615  18.52   1   1     4\n",
      "        20  33.9    4   71.1   65  4.22  1.835  19.90   1   1     4\n",
      "        21  21.5    4  120.1   97  3.70  2.465  20.01   1   0     3\n",
      "        22  15.5    8  318.0  150  2.76  3.520  16.87   0   0     3\n",
      "        23  15.2    8  304.0  150  3.15  3.435  17.30   0   0     3\n",
      "        24  13.3    8  350.0  245  3.73  3.840  15.41   0   0     3\n",
      "        25  19.2    8  400.0  175  3.08  3.845  17.05   0   0     3\n",
      "        26  27.3    4   79.0   66  4.08  1.935  18.90   1   1     4\n",
      "        27  26.0    4  120.3   91  4.43  2.140  16.70   0   1     5\n",
      "        28  30.4    4   95.1  113  3.77  1.513  16.90   1   1     5\n",
      "        29  15.8    8  351.0  264  4.22  3.170  14.50   0   1     5\n",
      "        30  19.7    6  145.0  175  3.62  2.770  15.50   0   1     5\n",
      "        31  15.0    8  301.0  335  3.54  3.570  14.60   0   1     5,               0            1             2            3        4\n",
      "        0  Sepal.Length  Sepal.Width  Petal.Length  Petal.Width  Species\n",
      "        1           5.1          3.5           1.4          0.2   setosa\n",
      "        2           4.9          3.0           1.4          0.2   setosa\n",
      "        3           4.7          3.2           1.3          0.2   setosa\n",
      "        4           4.6          3.1           1.5          0.2   setosa\n",
      "        5           5.0          3.6           1.4          0.2   setosa\n",
      "        6           5.4          3.9           1.7          0.4   setosa,      0             1            2             3            4          5\n",
      "        0  NaN  Sepal.Length  Sepal.Width  Petal.Length  Petal.Width    Species\n",
      "        1  145           6.7          3.3           5.7          2.5  virginica\n",
      "        2  146           6.7          3.0           5.2          2.3  virginica\n",
      "        3  147           6.3          2.5           5.0          1.9  virginica\n",
      "        4  148           6.5          3.0           5.2          2.0  virginica\n",
      "        5  149           6.2          3.4           5.4          2.3  virginica\n",
      "        6  150           5.9          3.0           5.1          1.8  virginica,        0\n",
      "        0   supp\n",
      "        1     VC\n",
      "        2     VC\n",
      "        3     VC\n",
      "        4     VC\n",
      "        5     VC\n",
      "        6     VC\n",
      "        7     VC\n",
      "        8     VC\n",
      "        9     VC\n",
      "        10    VC\n",
      "        11    VC\n",
      "        12    VC\n",
      "        13    VC\n",
      "        14    VC]\n",
      "\n"
     ]
    }
   ],
   "source": [
    "help(tabula.read_pdf)"
   ]
  },
  {
   "cell_type": "code",
   "execution_count": null,
   "metadata": {},
   "outputs": [],
   "source": []
  }
 ],
 "metadata": {
  "kernelspec": {
   "display_name": "Python 3",
   "language": "python",
   "name": "python3"
  },
  "language_info": {
   "codemirror_mode": {
    "name": "ipython",
    "version": 3
   },
   "file_extension": ".py",
   "mimetype": "text/x-python",
   "name": "python",
   "nbconvert_exporter": "python",
   "pygments_lexer": "ipython3",
   "version": "3.8.3"
  }
 },
 "nbformat": 4,
 "nbformat_minor": 4
}
